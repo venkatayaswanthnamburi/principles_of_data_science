{
 "cells": [
  {
   "cell_type": "code",
   "execution_count": 1,
   "id": "6a2b05dd",
   "metadata": {},
   "outputs": [],
   "source": [
    "import pandas as pd"
   ]
  },
  {
   "cell_type": "markdown",
   "id": "1c18d096",
   "metadata": {},
   "source": [
    "# Importing Frailty data for analysis"
   ]
  },
  {
   "cell_type": "code",
   "execution_count": 2,
   "id": "ee22f0a1",
   "metadata": {},
   "outputs": [
    {
     "name": "stdout",
     "output_type": "stream",
     "text": [
      "   Unnamed: 0.1  Unnamed: 0 Height Weight  Age Grip Strength Frailty\n",
      "0             0           0  65.8    112   30            30       N \n",
      "1             1           1  71.5    136   19            31       N \n",
      "2             2           2  69.4    153   45            29       N \n",
      "3             3           3  68.2    142   22            28       Y \n",
      "4             4           4  67.8    144   29            24       Y \n",
      "5             5           5  68.7    123   50            26       N \n",
      "6             6           6  69.8    141   51            22       Y \n",
      "7             7           7  70.1    136   23            20       Y \n",
      "8             8           8  67.9    112   17            19       N \n",
      "9             9           9  66.8    120   39            31       N \n"
     ]
    }
   ],
   "source": [
    "df = pd.read_csv('../data_raw/Frailty.csv')\n",
    "print(df.to_string())"
   ]
  },
  {
   "cell_type": "markdown",
   "id": "b4824160",
   "metadata": {},
   "source": [
    "# checking for null value existence"
   ]
  },
  {
   "cell_type": "code",
   "execution_count": 3,
   "id": "7af7da50",
   "metadata": {},
   "outputs": [
    {
     "data": {
      "text/plain": [
       "Unnamed: 0.1     0\n",
       "Unnamed: 0       0\n",
       "Height           0\n",
       "Weight           0\n",
       "Age              0\n",
       "Grip Strength    0\n",
       "Frailty          0\n",
       "dtype: int64"
      ]
     },
     "execution_count": 3,
     "metadata": {},
     "output_type": "execute_result"
    }
   ],
   "source": [
    "df.isnull().sum()"
   ]
  },
  {
   "cell_type": "markdown",
   "id": "0ffc7bc3",
   "metadata": {},
   "source": [
    "# storing the cleaned data into Frailty folder"
   ]
  },
  {
   "cell_type": "code",
   "execution_count": 4,
   "id": "05194b13",
   "metadata": {},
   "outputs": [],
   "source": [
    "df.to_csv('../data_clean/Frailty.csv')"
   ]
  },
  {
   "cell_type": "code",
   "execution_count": 5,
   "id": "a58129aa",
   "metadata": {},
   "outputs": [
    {
     "name": "stdout",
     "output_type": "stream",
     "text": [
      "<class 'pandas.core.frame.DataFrame'>\n",
      "RangeIndex: 10 entries, 0 to 9\n",
      "Data columns (total 7 columns):\n",
      " #   Column         Non-Null Count  Dtype \n",
      "---  ------         --------------  ----- \n",
      " 0   Unnamed: 0.1   10 non-null     int64 \n",
      " 1   Unnamed: 0     10 non-null     int64 \n",
      " 2   Height         10 non-null     object\n",
      " 3   Weight         10 non-null     object\n",
      " 4   Age            10 non-null     object\n",
      " 5   Grip Strength  10 non-null     object\n",
      " 6   Frailty        10 non-null     object\n",
      "dtypes: int64(2), object(5)\n",
      "memory usage: 692.0+ bytes\n"
     ]
    }
   ],
   "source": [
    "df.info()"
   ]
  },
  {
   "cell_type": "code",
   "execution_count": null,
   "id": "d16f4ce3",
   "metadata": {},
   "outputs": [],
   "source": []
  }
 ],
 "metadata": {
  "kernelspec": {
   "display_name": "Python 3 (ipykernel)",
   "language": "python",
   "name": "python3"
  },
  "language_info": {
   "codemirror_mode": {
    "name": "ipython",
    "version": 3
   },
   "file_extension": ".py",
   "mimetype": "text/x-python",
   "name": "python",
   "nbconvert_exporter": "python",
   "pygments_lexer": "ipython3",
   "version": "3.11.4"
  }
 },
 "nbformat": 4,
 "nbformat_minor": 5
}
